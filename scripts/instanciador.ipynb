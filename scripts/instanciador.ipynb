{
 "cells": [
  {
   "cell_type": "code",
   "execution_count": 47,
   "id": "1ec68c7c-d9ec-4db2-98eb-c0c4695d89e9",
   "metadata": {},
   "outputs": [],
   "source": [
    "import pandas as pd\n",
    "import numpy as np\n",
    "import random"
   ]
  },
  {
   "cell_type": "code",
   "execution_count": 48,
   "id": "0895de42-7fab-49e4-944d-f38749732075",
   "metadata": {},
   "outputs": [],
   "source": [
    "def duplicar_random(file_path, n):\n",
    "    lines = open(F\"{file_path}\").readlines()\n",
    "    lista_archivos = []\n",
    "    for i in range(n):\n",
    "        random.shuffle(lines)\n",
    "        with open(F\"../scripts/instancias/random/random-{i}.txt\", 'w') as f:\n",
    "            f.writelines(lines)\n",
    "        lista_archivos.append(F\"../scripts/instancias/random/random-{i}.txt\")\n",
    "    with open(F\"instancias/random/indice.txt\", 'w') as f:\n",
    "        for j in range(n):\n",
    "            print(lista_archivos[j], file=f, end=' ')"
   ]
  },
  {
   "cell_type": "code",
   "execution_count": 49,
   "id": "a2e575ee-db57-4af7-810a-71d460a9bdd2",
   "metadata": {},
   "outputs": [],
   "source": [
    "duplicar_random(\"../data/corpus\", 100)"
   ]
  },
  {
   "cell_type": "code",
   "execution_count": null,
   "id": "75c03b9f-f984-41f7-a23d-ba186ce73dc7",
   "metadata": {},
   "outputs": [],
   "source": []
  }
 ],
 "metadata": {
  "kernelspec": {
   "display_name": "Python 3",
   "language": "python",
   "name": "python3"
  },
  "language_info": {
   "codemirror_mode": {
    "name": "ipython",
    "version": 3
   },
   "file_extension": ".py",
   "mimetype": "text/x-python",
   "name": "python",
   "nbconvert_exporter": "python",
   "pygments_lexer": "ipython3",
   "version": "3.6.9"
  }
 },
 "nbformat": 4,
 "nbformat_minor": 5
}
