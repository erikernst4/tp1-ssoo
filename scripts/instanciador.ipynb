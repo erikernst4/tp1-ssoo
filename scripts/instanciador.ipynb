{
 "cells": [
  {
   "cell_type": "code",
   "execution_count": 1,
   "id": "a9654185",
   "metadata": {},
   "outputs": [],
   "source": [
    "import pandas as pd\n",
    "import numpy as np\n",
    "import random"
   ]
  },
  {
   "cell_type": "code",
   "execution_count": 2,
   "id": "91770220",
   "metadata": {},
   "outputs": [],
   "source": [
    "def duplicar_random(file_path, n):\n",
    "    lines = open(F\"{file_path}\").readlines()\n",
    "    lista_archivos = []\n",
    "    for i in range(n):\n",
    "        random.shuffle(lines)\n",
    "        with open(F\"../scripts/instancias/random/random-{i}.txt\", 'w') as f:\n",
    "            f.writelines(lines)\n",
    "        lista_archivos.append(F\"../scripts/instancias/random/random-{i}.txt\")\n",
    "    with open(F\"instancias/random/indice.txt\", 'w') as f:\n",
    "        print(\"Indice random\",file=f)\n",
    "        for j in range(n):\n",
    "            print(lista_archivos[j], file=f)"
   ]
  },
  {
   "cell_type": "code",
   "execution_count": 3,
   "id": "71e2bbc3",
   "metadata": {},
   "outputs": [],
   "source": [
    "duplicar_random(\"../data/corpus\", 100)"
   ]
  },
  {
   "cell_type": "code",
   "execution_count": null,
   "id": "8d75d59a",
   "metadata": {},
   "outputs": [],
   "source": []
  }
 ],
 "metadata": {
  "kernelspec": {
   "display_name": "Python 3",
   "language": "python",
   "name": "python3"
  },
  "language_info": {
   "codemirror_mode": {
    "name": "ipython",
    "version": 3
   },
   "file_extension": ".py",
   "mimetype": "text/x-python",
   "name": "python",
   "nbconvert_exporter": "python",
   "pygments_lexer": "ipython3",
   "version": "3.6.9"
  }
 },
 "nbformat": 4,
 "nbformat_minor": 5
}
