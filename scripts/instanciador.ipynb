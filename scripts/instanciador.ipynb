{
 "cells": [
  {
   "cell_type": "code",
   "execution_count": 65,
   "id": "a9654185",
   "metadata": {},
   "outputs": [],
   "source": [
    "import pandas as pd\n",
    "import numpy as np\n",
    "import random\n",
    "import os"
   ]
  },
  {
   "cell_type": "code",
   "execution_count": 66,
   "id": "91770220",
   "metadata": {},
   "outputs": [],
   "source": [
    "def duplicar_random(file_path, n):\n",
    "    lines = open(F\"{file_path}\").readlines()\n",
    "    lista_archivos = []\n",
    "    for i in range(n):\n",
    "        random.shuffle(lines)\n",
    "        with open(F\"../scripts/instancias/random/random-{i}.txt\", 'w') as f:\n",
    "            f.writelines(lines)\n",
    "        lista_archivos.append(F\"../scripts/instancias/random/random-{i}.txt\")\n",
    "    with open(F\"instancias/random/indice.txt\", 'w') as f:\n",
    "        print(\"Indice archivos\",file=f)\n",
    "        for j in range(n):\n",
    "            print(lista_archivos[j], file=f)"
   ]
  },
  {
   "cell_type": "markdown",
   "id": "7172166f",
   "metadata": {},
   "source": [
    "## Muchos vs pocos archivos"
   ]
  },
  {
   "cell_type": "code",
   "execution_count": 11,
   "id": "f3c68060",
   "metadata": {},
   "outputs": [],
   "source": [
    "def juntar_en_un_archivo(source_directory_path,target_file_path):\n",
    "    df_indice = pd.read_csv(source_directory_path + \"/indice.txt\")\n",
    "    with open(target_file_path,'w') as target:\n",
    "        for source_path in df_indice.stack().to_list():\n",
    "            with open(source_path, 'r') as source:\n",
    "                target.write(source.read())"
   ]
  },
  {
   "cell_type": "code",
   "execution_count": 63,
   "id": "c3ab9dc1",
   "metadata": {},
   "outputs": [],
   "source": [
    "def separar_en_archivos(source_file_path, n, target_directory_path):\n",
    "    source_list = pd.read_csv(source_file_path).stack().to_list()\n",
    "    output_line_count = len(source_list)//n\n",
    "    current_line = 0\n",
    "    lista_indice = []\n",
    "    for i in range(n):\n",
    "        target_filepath = target_directory_path +\"/separado-\"+str(i)+\".txt\"\n",
    "        lista_indice.append(target_filepath)\n",
    "        with open(target_filepath, 'w') as target:\n",
    "            for j in range(output_line_count):\n",
    "                try:\n",
    "                    print(source_list[current_line], file=target)\n",
    "                except IndexError:\n",
    "                    print(F\"fallo en la linea {current_line}/{len(source_list)} en el archivo Nro {i} durante la iteracion Nro {j}\")\n",
    "                    raise IndexError(\"list index out of range\")\n",
    "                current_line += 1\n",
    "            #En el ultimo archivo metemos las lineas \"que faltaban\" por el redondeo\n",
    "            if(i == n-1):\n",
    "                while(current_line < len(source_list)):\n",
    "                    print(source_list[current_line],file = target)\n",
    "                    current_line += 1\n",
    "    with open(target_directory_path+\"/indice.txt\",'w') as indice:\n",
    "        print(\"Indice directorios\",file=indice)\n",
    "        for path in lista_indice:\n",
    "            print(path,file=indice)\n"
   ]
  },
  {
   "cell_type": "code",
   "execution_count": 3,
   "id": "71e2bbc3",
   "metadata": {},
   "outputs": [],
   "source": [
    "duplicar_random(\"../data/corpus\", 100)"
   ]
  },
  {
   "cell_type": "code",
   "execution_count": 12,
   "id": "83f0bd02",
   "metadata": {},
   "outputs": [],
   "source": [
    "juntar_en_un_archivo(source_directory_path=\"instancias/random\",target_file_path=\"instancias/separados/fuente.txt\")"
   ]
  },
  {
   "cell_type": "code",
   "execution_count": 64,
   "id": "79491611",
   "metadata": {},
   "outputs": [],
   "source": [
    "cant_archivos = [2,4,8,16,32,64,128,256,512,1024]\n",
    "with open(\"instancias/separados/indice_directorios.txt\", 'w') as indice:\n",
    "    print(\"Indice directorios\",file=indice)\n",
    "    for cantidad in cant_archivos:\n",
    "        path = F\"instancias/separados/{cantidad}_archivos\"\n",
    "        print(path,file=indice)\n",
    "        try: \n",
    "            os.mkdir(path)\n",
    "        except FileExistsError: \n",
    "            pass\n",
    "        separar_en_archivos(\"instancias/separados/fuente.txt\",cantidad,path)    "
   ]
  }
 ],
 "metadata": {
  "kernelspec": {
   "display_name": "Python 3",
   "language": "python",
   "name": "python3"
  },
  "language_info": {
   "codemirror_mode": {
    "name": "ipython",
    "version": 3
   },
   "file_extension": ".py",
   "mimetype": "text/x-python",
   "name": "python",
   "nbconvert_exporter": "python",
   "pygments_lexer": "ipython3",
   "version": "3.6.9"
  }
 },
 "nbformat": 4,
 "nbformat_minor": 5
}
