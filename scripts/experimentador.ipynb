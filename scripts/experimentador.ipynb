{
 "cells": [
  {
   "cell_type": "code",
   "execution_count": 1,
   "id": "1ff7173f-246a-4274-8ccf-8e6bb38ac8f5",
   "metadata": {},
   "outputs": [],
   "source": [
    "import math, subprocess\n",
    "import pandas as pd\n",
    "import numpy as np\n",
    "from IPython.display import display, clear_output"
   ]
  },
  {
   "cell_type": "code",
   "execution_count": 18,
   "id": "d67f64cf-cdad-4ec2-ba06-503c9a8eb042",
   "metadata": {},
   "outputs": [],
   "source": [
    "def leer_instancia(path_instancia):\n",
    "    with open(path_instancia, \"r\") as f:\n",
    "        return f.read();\n",
    "\n",
    "df_caso_random = pd.read_csv(\"instancias/random/indice.txt\");"
   ]
  },
  {
   "cell_type": "code",
   "execution_count": 4,
   "id": "a1ee49cd-4b21-4221-b615-0e8aaff84ba9",
   "metadata": {},
   "outputs": [],
   "source": [
    "def correr_experimento(metodo, archivo_instancia):\n",
    "    # Leer archivo de la instancia.\n",
    "    instancia = leer_instancia(archivo_instancia)\n",
    "    \n",
    "    # Crear proceso para ejecutar el codigo.\n",
    "    process = subprocess.Popen([\"../Tp1/cmake-build-debug/Tp1(copy)\", metodo], stderr=subprocess.PIPE, stdout=subprocess.PIPE, stdin=subprocess.PIPE, universal_newlines = True)\n",
    "\n",
    "    # Poner la instancia en la entrada estandar.\n",
    "    process.stdin.write(instancia)\n",
    "    process.stdin.flush()\n",
    "\n",
    "    # Correr experimento.\n",
    "    exit_code = process.wait()\n",
    "\n",
    "    # Verificar que el proceso no fallo.\n",
    "    if exit_code != 0: raise ValueError(F\"Hubo un error en la experimentacion para el algoritmo: {metodo} con la instancia {archivo_instancia}.\")\n",
    "    # Leer salida de STDERR con los tiempos de ejecucion de cada metodo.\n",
    "    tiempo_de_ejecucion = float(process.stderr.read());\n",
    "\n",
    "    \n",
    "    process.stdin.close();\n",
    "    process.stdout.close();\n",
    "    process.stderr.close();\n",
    "    \n",
    "    return tiempo_de_ejecucion;"
   ]
  },
  {
   "cell_type": "code",
   "execution_count": 5,
   "id": "bd0f564b-6f7d-4fd5-9c84-1d93b2d08ead",
   "metadata": {},
   "outputs": [],
   "source": [
    "experimentos = [];"
   ]
  },
  {
   "cell_type": "markdown",
   "id": "45860d45-dff7-4c5c-a2fb-12834007ccde",
   "metadata": {},
   "source": [
    "### Experimento 1\n"
   ]
  },
  {
   "cell_type": "code",
   "execution_count": 21,
   "id": "1577c902-3580-4673-b73b-f2ea759de9d0",
   "metadata": {},
   "outputs": [
    {
     "data": {
      "text/plain": [
       "['instancias/random/random-0.txt',\n",
       " 'instancias/random/random-1.txt',\n",
       " 'instancias/random/random-2.txt',\n",
       " 'instancias/random/random-3.txt',\n",
       " 'instancias/random/random-4.txt',\n",
       " 'instancias/random/random-5.txt',\n",
       " 'instancias/random/random-6.txt',\n",
       " 'instancias/random/random-7.txt',\n",
       " 'instancias/random/random-8.txt',\n",
       " 'instancias/random/random-9.txt',\n",
       " 'instancias/random/random-10.txt',\n",
       " 'instancias/random/random-11.txt',\n",
       " 'instancias/random/random-12.txt',\n",
       " 'instancias/random/random-13.txt',\n",
       " 'instancias/random/random-14.txt',\n",
       " 'instancias/random/random-15.txt',\n",
       " 'instancias/random/random-16.txt',\n",
       " 'instancias/random/random-17.txt',\n",
       " 'instancias/random/random-18.txt',\n",
       " 'instancias/random/random-19.txt',\n",
       " 'instancias/random/random-20.txt',\n",
       " 'instancias/random/random-21.txt',\n",
       " 'instancias/random/random-22.txt',\n",
       " 'instancias/random/random-23.txt',\n",
       " 'instancias/random/random-24.txt',\n",
       " 'instancias/random/random-25.txt',\n",
       " 'instancias/random/random-26.txt',\n",
       " 'instancias/random/random-27.txt',\n",
       " 'instancias/random/random-28.txt',\n",
       " 'instancias/random/random-29.txt',\n",
       " 'instancias/random/random-30.txt',\n",
       " 'instancias/random/random-31.txt',\n",
       " 'instancias/random/random-32.txt',\n",
       " 'instancias/random/random-33.txt',\n",
       " 'instancias/random/random-34.txt',\n",
       " 'instancias/random/random-35.txt',\n",
       " 'instancias/random/random-36.txt',\n",
       " 'instancias/random/random-37.txt',\n",
       " 'instancias/random/random-38.txt',\n",
       " 'instancias/random/random-39.txt',\n",
       " 'instancias/random/random-40.txt',\n",
       " 'instancias/random/random-41.txt',\n",
       " 'instancias/random/random-42.txt',\n",
       " 'instancias/random/random-43.txt',\n",
       " 'instancias/random/random-44.txt',\n",
       " 'instancias/random/random-45.txt',\n",
       " 'instancias/random/random-46.txt',\n",
       " 'instancias/random/random-47.txt',\n",
       " 'instancias/random/random-48.txt',\n",
       " 'instancias/random/random-49.txt',\n",
       " 'instancias/random/random-50.txt',\n",
       " 'instancias/random/random-51.txt',\n",
       " 'instancias/random/random-52.txt',\n",
       " 'instancias/random/random-53.txt',\n",
       " 'instancias/random/random-54.txt',\n",
       " 'instancias/random/random-55.txt',\n",
       " 'instancias/random/random-56.txt',\n",
       " 'instancias/random/random-57.txt',\n",
       " 'instancias/random/random-58.txt',\n",
       " 'instancias/random/random-59.txt',\n",
       " 'instancias/random/random-60.txt',\n",
       " 'instancias/random/random-61.txt',\n",
       " 'instancias/random/random-62.txt',\n",
       " 'instancias/random/random-63.txt',\n",
       " 'instancias/random/random-64.txt',\n",
       " 'instancias/random/random-65.txt',\n",
       " 'instancias/random/random-66.txt',\n",
       " 'instancias/random/random-67.txt',\n",
       " 'instancias/random/random-68.txt',\n",
       " 'instancias/random/random-69.txt',\n",
       " 'instancias/random/random-70.txt',\n",
       " 'instancias/random/random-71.txt',\n",
       " 'instancias/random/random-72.txt',\n",
       " 'instancias/random/random-73.txt',\n",
       " 'instancias/random/random-74.txt',\n",
       " 'instancias/random/random-75.txt',\n",
       " 'instancias/random/random-76.txt',\n",
       " 'instancias/random/random-77.txt',\n",
       " 'instancias/random/random-78.txt',\n",
       " 'instancias/random/random-79.txt',\n",
       " 'instancias/random/random-80.txt',\n",
       " 'instancias/random/random-81.txt',\n",
       " 'instancias/random/random-82.txt',\n",
       " 'instancias/random/random-83.txt',\n",
       " 'instancias/random/random-84.txt',\n",
       " 'instancias/random/random-85.txt',\n",
       " 'instancias/random/random-86.txt',\n",
       " 'instancias/random/random-87.txt',\n",
       " 'instancias/random/random-88.txt',\n",
       " 'instancias/random/random-89.txt',\n",
       " 'instancias/random/random-90.txt',\n",
       " 'instancias/random/random-91.txt',\n",
       " 'instancias/random/random-92.txt',\n",
       " 'instancias/random/random-93.txt',\n",
       " 'instancias/random/random-94.txt',\n",
       " 'instancias/random/random-95.txt',\n",
       " 'instancias/random/random-96.txt',\n",
       " 'instancias/random/random-97.txt',\n",
       " 'instancias/random/random-98.txt',\n",
       " 'instancias/random/random-99.txt']"
      ]
     },
     "execution_count": 21,
     "metadata": {},
     "output_type": "execute_result"
    }
   ],
   "source": [
    "lista_archivos = df_caso_random[\"file_path\"].tolist()"
   ]
  },
  {
   "cell_type": "code",
   "execution_count": 6,
   "id": "12a077c3-ccc0-4fd7-945e-6b59ffff9e8d",
   "metadata": {},
   "outputs": [
    {
     "ename": "NameError",
     "evalue": "name 'experimentos_adicionales' is not defined",
     "output_type": "error",
     "traceback": [
      "\u001b[0;31m---------------------------------------------------------------------------\u001b[0m",
      "\u001b[0;31mNameError\u001b[0m                                 Traceback (most recent call last)",
      "\u001b[0;32m<ipython-input-6-f12b89073f08>\u001b[0m in \u001b[0;36m<module>\u001b[0;34m\u001b[0m\n\u001b[1;32m      3\u001b[0m \u001b[0mnumero\u001b[0m \u001b[0;34m=\u001b[0m \u001b[0;36m1\u001b[0m\u001b[0;34m\u001b[0m\u001b[0;34m\u001b[0m\u001b[0m\n\u001b[1;32m      4\u001b[0m \u001b[0mT\u001b[0m \u001b[0;34m=\u001b[0m \u001b[0;36m5\u001b[0m \u001b[0;31m# Numero de veces que se ejecuta cada experimento (para mayor fidelidad del tiempo).\u001b[0m\u001b[0;34m\u001b[0m\u001b[0;34m\u001b[0m\u001b[0m\n\u001b[0;32m----> 5\u001b[0;31m \u001b[0;32mfor\u001b[0m \u001b[0mexperimento\u001b[0m \u001b[0;32min\u001b[0m \u001b[0mexperimentos_adicionales\u001b[0m\u001b[0;34m:\u001b[0m\u001b[0;34m\u001b[0m\u001b[0;34m\u001b[0m\u001b[0m\n\u001b[0m\u001b[1;32m      6\u001b[0m     \u001b[0;31m# Voy mostrando que experimento se esta ejecutando.\u001b[0m\u001b[0;34m\u001b[0m\u001b[0;34m\u001b[0m\u001b[0;34m\u001b[0m\u001b[0m\n\u001b[1;32m      7\u001b[0m     \u001b[0mclear_output\u001b[0m\u001b[0;34m(\u001b[0m\u001b[0mwait\u001b[0m\u001b[0;34m=\u001b[0m\u001b[0;32mTrue\u001b[0m\u001b[0;34m)\u001b[0m\u001b[0;34m\u001b[0m\u001b[0;34m\u001b[0m\u001b[0m\n",
      "\u001b[0;31mNameError\u001b[0m: name 'experimentos_adicionales' is not defined"
     ]
    }
   ],
   "source": [
    "columnas = [\"dataset\", \"n\", \"cant_threads\", \"metodo\", \"tiempo\"];\n",
    "filas = [];\n",
    "numero = 1\n",
    "T = 5 # Numero de veces que se ejecuta cada experimento (para mayor fidelidad del tiempo).\n",
    "for experimento in experimentos_adicionales:\n",
    "    # Voy mostrando que experimento se esta ejecutando.\n",
    "    clear_output(wait=True)\n",
    "    display('Experimento: ' + str(numero) + \"/\" + str(len(experimentos_adicionales)))\n",
    "    numero += 1\n",
    "    \n",
    "    # Ejecutamos el experimento T veces y obtenemos la mediana.\n",
    "    tiempos = []\n",
    "    for i in range(0, T):\n",
    "        tiempos.append(correr_experimento(experimento[3], experimento[4]));\n",
    "    tiempo = np.median(tiempos);\n",
    "    filas.append([experimento[0], experimento[1], experimento[2], experimento[3], tiempo]);\n",
    "df_resultado = pd.DataFrame(filas, columns=columnas);\n",
    "df_resultado.to_csv(\"resultados/resultados.csv\", index=False, header=True);"
   ]
  },
  {
   "cell_type": "code",
   "execution_count": null,
   "id": "8732138a-ad41-44a2-afac-6649c6a64241",
   "metadata": {},
   "outputs": [],
   "source": []
  }
 ],
 "metadata": {
  "kernelspec": {
   "display_name": "Python 3",
   "language": "python",
   "name": "python3"
  },
  "language_info": {
   "codemirror_mode": {
    "name": "ipython",
    "version": 3
   },
   "file_extension": ".py",
   "mimetype": "text/x-python",
   "name": "python",
   "nbconvert_exporter": "python",
   "pygments_lexer": "ipython3",
   "version": "3.6.9"
  }
 },
 "nbformat": 4,
 "nbformat_minor": 5
}
