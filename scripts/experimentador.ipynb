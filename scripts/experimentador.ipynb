{
 "cells": [
  {
   "cell_type": "code",
   "execution_count": 35,
   "id": "1ff7173f-246a-4274-8ccf-8e6bb38ac8f5",
   "metadata": {},
   "outputs": [],
   "source": [
    "import math, subprocess\n",
    "import pandas as pd\n",
    "import numpy as np\n",
    "from IPython.display import display, clear_output"
   ]
  },
  {
   "cell_type": "code",
   "execution_count": 36,
   "id": "d67f64cf-cdad-4ec2-ba06-503c9a8eb042",
   "metadata": {},
   "outputs": [],
   "source": [
    "df_caso_random = pd.read_csv(\"instancias/random/indice.txt\");"
   ]
  },
  {
   "cell_type": "code",
   "execution_count": 37,
   "id": "a1ee49cd-4b21-4221-b615-0e8aaff84ba9",
   "metadata": {},
   "outputs": [],
   "source": [
    "def correr_experimento(cant_threads, metodo, lista_archivos):\n",
    "    \n",
    "    # Crear proceso para ejecutar el codigo.\n",
    "    process = subprocess.Popen([\"../build/ContarPalabras\", cant_threads, metodo, lista_archivos], stderr=subprocess.PIPE, stdout=subprocess.PIPE, stdin=subprocess.PIPE, universal_newlines = True)\n",
    "\n",
    "    # Correr experimento.\n",
    "    exit_code = process.wait()\n",
    "\n",
    "    # Verificar que el proceso no fallo.\n",
    "    if exit_code != 0: raise ValueError(F\"Hubo un error en la experimentacion para el algoritmo: {metodo} con la instancia {lista_archivos}.\")\n",
    "    \n",
    "    # Leer salida de STDERR con los tiempos de ejecucion de cada metodo.\n",
    "    tiempos = process.stdout.read().split('\\n');\n",
    "    tiempo_cargas = float(tiempos[0])\n",
    "    # Leo de STDOUT el tiempo del maximo paralelo si hay\n",
    "    tiempo_max_paralelo = 0.0\n",
    "    if (metodo == \"true\"):\n",
    "        tiempo_max_paralelo = float(tiempos[1]);\n",
    "    \n",
    "    process.stdin.close();\n",
    "    process.stdout.close();\n",
    "    process.stderr.close();\n",
    "    \n",
    "    return [tiempo_cargas, tiempo_max_paralelo];"
   ]
  },
  {
   "cell_type": "code",
   "execution_count": 38,
   "id": "bd0f564b-6f7d-4fd5-9c84-1d93b2d08ead",
   "metadata": {},
   "outputs": [],
   "source": [
    "experimentos = [];"
   ]
  },
  {
   "cell_type": "markdown",
   "id": "45860d45-dff7-4c5c-a2fb-12834007ccde",
   "metadata": {},
   "source": [
    "### Experimento 1\n"
   ]
  },
  {
   "cell_type": "code",
   "execution_count": 39,
   "id": "1577c902-3580-4673-b73b-f2ea759de9d0",
   "metadata": {},
   "outputs": [],
   "source": [
    "cantThreads = 10\n",
    "lista_archivos = \"\"\n",
    "with open(F\"instancias/random/indice.txt\", 'r') as f:\n",
    "    lista_archivos = f.read();\n",
    "for threads in range(1, cantThreads):\n",
    "    experimentos.append([\"big_random\", str(threads), \"true\", lista_archivos])"
   ]
  },
  {
   "cell_type": "code",
   "execution_count": 33,
   "id": "75c48148-db6a-4205-a3b5-53dbadf07bd3",
   "metadata": {},
   "outputs": [
    {
     "data": {
      "text/plain": [
       "'../scripts/instancias/random/random-0.txt ../scripts/instancias/random/random-1.txt ../scripts/instancias/random/random-2.txt ../scripts/instancias/random/random-3.txt ../scripts/instancias/random/random-4.txt ../scripts/instancias/random/random-5.txt ../scripts/instancias/random/random-6.txt ../scripts/instancias/random/random-7.txt ../scripts/instancias/random/random-8.txt ../scripts/instancias/random/random-9.txt ../scripts/instancias/random/random-10.txt ../scripts/instancias/random/random-11.txt ../scripts/instancias/random/random-12.txt ../scripts/instancias/random/random-13.txt ../scripts/instancias/random/random-14.txt ../scripts/instancias/random/random-15.txt ../scripts/instancias/random/random-16.txt ../scripts/instancias/random/random-17.txt ../scripts/instancias/random/random-18.txt ../scripts/instancias/random/random-19.txt ../scripts/instancias/random/random-20.txt ../scripts/instancias/random/random-21.txt ../scripts/instancias/random/random-22.txt ../scripts/instancias/random/random-23.txt ../scripts/instancias/random/random-24.txt ../scripts/instancias/random/random-25.txt ../scripts/instancias/random/random-26.txt ../scripts/instancias/random/random-27.txt ../scripts/instancias/random/random-28.txt ../scripts/instancias/random/random-29.txt ../scripts/instancias/random/random-30.txt ../scripts/instancias/random/random-31.txt ../scripts/instancias/random/random-32.txt ../scripts/instancias/random/random-33.txt ../scripts/instancias/random/random-34.txt ../scripts/instancias/random/random-35.txt ../scripts/instancias/random/random-36.txt ../scripts/instancias/random/random-37.txt ../scripts/instancias/random/random-38.txt ../scripts/instancias/random/random-39.txt ../scripts/instancias/random/random-40.txt ../scripts/instancias/random/random-41.txt ../scripts/instancias/random/random-42.txt ../scripts/instancias/random/random-43.txt ../scripts/instancias/random/random-44.txt ../scripts/instancias/random/random-45.txt ../scripts/instancias/random/random-46.txt ../scripts/instancias/random/random-47.txt ../scripts/instancias/random/random-48.txt ../scripts/instancias/random/random-49.txt ../scripts/instancias/random/random-50.txt ../scripts/instancias/random/random-51.txt ../scripts/instancias/random/random-52.txt ../scripts/instancias/random/random-53.txt ../scripts/instancias/random/random-54.txt ../scripts/instancias/random/random-55.txt ../scripts/instancias/random/random-56.txt ../scripts/instancias/random/random-57.txt ../scripts/instancias/random/random-58.txt ../scripts/instancias/random/random-59.txt ../scripts/instancias/random/random-60.txt ../scripts/instancias/random/random-61.txt ../scripts/instancias/random/random-62.txt ../scripts/instancias/random/random-63.txt ../scripts/instancias/random/random-64.txt ../scripts/instancias/random/random-65.txt ../scripts/instancias/random/random-66.txt ../scripts/instancias/random/random-67.txt ../scripts/instancias/random/random-68.txt ../scripts/instancias/random/random-69.txt ../scripts/instancias/random/random-70.txt ../scripts/instancias/random/random-71.txt ../scripts/instancias/random/random-72.txt ../scripts/instancias/random/random-73.txt ../scripts/instancias/random/random-74.txt ../scripts/instancias/random/random-75.txt ../scripts/instancias/random/random-76.txt ../scripts/instancias/random/random-77.txt ../scripts/instancias/random/random-78.txt ../scripts/instancias/random/random-79.txt ../scripts/instancias/random/random-80.txt ../scripts/instancias/random/random-81.txt ../scripts/instancias/random/random-82.txt ../scripts/instancias/random/random-83.txt ../scripts/instancias/random/random-84.txt ../scripts/instancias/random/random-85.txt ../scripts/instancias/random/random-86.txt ../scripts/instancias/random/random-87.txt ../scripts/instancias/random/random-88.txt ../scripts/instancias/random/random-89.txt ../scripts/instancias/random/random-90.txt ../scripts/instancias/random/random-91.txt ../scripts/instancias/random/random-92.txt ../scripts/instancias/random/random-93.txt ../scripts/instancias/random/random-94.txt ../scripts/instancias/random/random-95.txt ../scripts/instancias/random/random-96.txt ../scripts/instancias/random/random-97.txt ../scripts/instancias/random/random-98.txt ../scripts/instancias/random/random-99.txt '"
      ]
     },
     "execution_count": 33,
     "metadata": {},
     "output_type": "execute_result"
    }
   ],
   "source": [
    "lista_archivos"
   ]
  },
  {
   "cell_type": "code",
   "execution_count": 34,
   "id": "12a077c3-ccc0-4fd7-945e-6b59ffff9e8d",
   "metadata": {},
   "outputs": [
    {
     "data": {
      "text/plain": [
       "'Experimento: 2/9'"
      ]
     },
     "metadata": {},
     "output_type": "display_data"
    },
    {
     "ename": "ValueError",
     "evalue": "Hubo un error en la experimentacion para el algoritmo: true con la instancia ../scripts/instancias/random/random-0.txt ../scripts/instancias/random/random-1.txt ../scripts/instancias/random/random-2.txt ../scripts/instancias/random/random-3.txt ../scripts/instancias/random/random-4.txt ../scripts/instancias/random/random-5.txt ../scripts/instancias/random/random-6.txt ../scripts/instancias/random/random-7.txt ../scripts/instancias/random/random-8.txt ../scripts/instancias/random/random-9.txt ../scripts/instancias/random/random-10.txt ../scripts/instancias/random/random-11.txt ../scripts/instancias/random/random-12.txt ../scripts/instancias/random/random-13.txt ../scripts/instancias/random/random-14.txt ../scripts/instancias/random/random-15.txt ../scripts/instancias/random/random-16.txt ../scripts/instancias/random/random-17.txt ../scripts/instancias/random/random-18.txt ../scripts/instancias/random/random-19.txt ../scripts/instancias/random/random-20.txt ../scripts/instancias/random/random-21.txt ../scripts/instancias/random/random-22.txt ../scripts/instancias/random/random-23.txt ../scripts/instancias/random/random-24.txt ../scripts/instancias/random/random-25.txt ../scripts/instancias/random/random-26.txt ../scripts/instancias/random/random-27.txt ../scripts/instancias/random/random-28.txt ../scripts/instancias/random/random-29.txt ../scripts/instancias/random/random-30.txt ../scripts/instancias/random/random-31.txt ../scripts/instancias/random/random-32.txt ../scripts/instancias/random/random-33.txt ../scripts/instancias/random/random-34.txt ../scripts/instancias/random/random-35.txt ../scripts/instancias/random/random-36.txt ../scripts/instancias/random/random-37.txt ../scripts/instancias/random/random-38.txt ../scripts/instancias/random/random-39.txt ../scripts/instancias/random/random-40.txt ../scripts/instancias/random/random-41.txt ../scripts/instancias/random/random-42.txt ../scripts/instancias/random/random-43.txt ../scripts/instancias/random/random-44.txt ../scripts/instancias/random/random-45.txt ../scripts/instancias/random/random-46.txt ../scripts/instancias/random/random-47.txt ../scripts/instancias/random/random-48.txt ../scripts/instancias/random/random-49.txt ../scripts/instancias/random/random-50.txt ../scripts/instancias/random/random-51.txt ../scripts/instancias/random/random-52.txt ../scripts/instancias/random/random-53.txt ../scripts/instancias/random/random-54.txt ../scripts/instancias/random/random-55.txt ../scripts/instancias/random/random-56.txt ../scripts/instancias/random/random-57.txt ../scripts/instancias/random/random-58.txt ../scripts/instancias/random/random-59.txt ../scripts/instancias/random/random-60.txt ../scripts/instancias/random/random-61.txt ../scripts/instancias/random/random-62.txt ../scripts/instancias/random/random-63.txt ../scripts/instancias/random/random-64.txt ../scripts/instancias/random/random-65.txt ../scripts/instancias/random/random-66.txt ../scripts/instancias/random/random-67.txt ../scripts/instancias/random/random-68.txt ../scripts/instancias/random/random-69.txt ../scripts/instancias/random/random-70.txt ../scripts/instancias/random/random-71.txt ../scripts/instancias/random/random-72.txt ../scripts/instancias/random/random-73.txt ../scripts/instancias/random/random-74.txt ../scripts/instancias/random/random-75.txt ../scripts/instancias/random/random-76.txt ../scripts/instancias/random/random-77.txt ../scripts/instancias/random/random-78.txt ../scripts/instancias/random/random-79.txt ../scripts/instancias/random/random-80.txt ../scripts/instancias/random/random-81.txt ../scripts/instancias/random/random-82.txt ../scripts/instancias/random/random-83.txt ../scripts/instancias/random/random-84.txt ../scripts/instancias/random/random-85.txt ../scripts/instancias/random/random-86.txt ../scripts/instancias/random/random-87.txt ../scripts/instancias/random/random-88.txt ../scripts/instancias/random/random-89.txt ../scripts/instancias/random/random-90.txt ../scripts/instancias/random/random-91.txt ../scripts/instancias/random/random-92.txt ../scripts/instancias/random/random-93.txt ../scripts/instancias/random/random-94.txt ../scripts/instancias/random/random-95.txt ../scripts/instancias/random/random-96.txt ../scripts/instancias/random/random-97.txt ../scripts/instancias/random/random-98.txt ../scripts/instancias/random/random-99.txt .",
     "output_type": "error",
     "traceback": [
      "\u001b[0;31m---------------------------------------------------------------------------\u001b[0m",
      "\u001b[0;31mValueError\u001b[0m                                Traceback (most recent call last)",
      "\u001b[0;32m<ipython-input-34-60262c3fddbf>\u001b[0m in \u001b[0;36m<module>\u001b[0;34m\u001b[0m\n\u001b[1;32m     14\u001b[0m \u001b[0;34m\u001b[0m\u001b[0m\n\u001b[1;32m     15\u001b[0m     \u001b[0;32mfor\u001b[0m \u001b[0mi\u001b[0m \u001b[0;32min\u001b[0m \u001b[0mrange\u001b[0m\u001b[0;34m(\u001b[0m\u001b[0;36m0\u001b[0m\u001b[0;34m,\u001b[0m \u001b[0mT\u001b[0m\u001b[0;34m)\u001b[0m\u001b[0;34m:\u001b[0m\u001b[0;34m\u001b[0m\u001b[0;34m\u001b[0m\u001b[0m\n\u001b[0;32m---> 16\u001b[0;31m         \u001b[0mtiempos\u001b[0m \u001b[0;34m=\u001b[0m \u001b[0mcorrer_experimento\u001b[0m\u001b[0;34m(\u001b[0m\u001b[0mexperimento\u001b[0m\u001b[0;34m[\u001b[0m\u001b[0;36m1\u001b[0m\u001b[0;34m]\u001b[0m\u001b[0;34m,\u001b[0m \u001b[0mexperimento\u001b[0m\u001b[0;34m[\u001b[0m\u001b[0;36m2\u001b[0m\u001b[0;34m]\u001b[0m\u001b[0;34m,\u001b[0m \u001b[0mexperimento\u001b[0m\u001b[0;34m[\u001b[0m\u001b[0;36m3\u001b[0m\u001b[0;34m]\u001b[0m\u001b[0;34m)\u001b[0m\u001b[0;34m\u001b[0m\u001b[0;34m\u001b[0m\u001b[0m\n\u001b[0m\u001b[1;32m     17\u001b[0m         \u001b[0mtiempos_carga\u001b[0m\u001b[0;34m.\u001b[0m\u001b[0mappend\u001b[0m\u001b[0;34m(\u001b[0m\u001b[0mtiempos\u001b[0m\u001b[0;34m[\u001b[0m\u001b[0;36m0\u001b[0m\u001b[0;34m]\u001b[0m\u001b[0;34m)\u001b[0m\u001b[0;34m;\u001b[0m\u001b[0;34m\u001b[0m\u001b[0;34m\u001b[0m\u001b[0m\n\u001b[1;32m     18\u001b[0m         \u001b[0mtiempos_max\u001b[0m\u001b[0;34m.\u001b[0m\u001b[0mappend\u001b[0m\u001b[0;34m(\u001b[0m\u001b[0mtiempos\u001b[0m\u001b[0;34m[\u001b[0m\u001b[0;36m1\u001b[0m\u001b[0;34m]\u001b[0m\u001b[0;34m)\u001b[0m\u001b[0;34m;\u001b[0m\u001b[0;34m\u001b[0m\u001b[0;34m\u001b[0m\u001b[0m\n",
      "\u001b[0;32m<ipython-input-30-1a0ed185af19>\u001b[0m in \u001b[0;36mcorrer_experimento\u001b[0;34m(cant_threads, metodo, lista_archivos)\u001b[0m\n\u001b[1;32m      8\u001b[0m \u001b[0;34m\u001b[0m\u001b[0m\n\u001b[1;32m      9\u001b[0m     \u001b[0;31m# Verificar que el proceso no fallo.\u001b[0m\u001b[0;34m\u001b[0m\u001b[0;34m\u001b[0m\u001b[0;34m\u001b[0m\u001b[0m\n\u001b[0;32m---> 10\u001b[0;31m     \u001b[0;32mif\u001b[0m \u001b[0mexit_code\u001b[0m \u001b[0;34m!=\u001b[0m \u001b[0;36m0\u001b[0m\u001b[0;34m:\u001b[0m \u001b[0;32mraise\u001b[0m \u001b[0mValueError\u001b[0m\u001b[0;34m(\u001b[0m\u001b[0;34mF\"Hubo un error en la experimentacion para el algoritmo: {metodo} con la instancia {lista_archivos}.\"\u001b[0m\u001b[0;34m)\u001b[0m\u001b[0;34m\u001b[0m\u001b[0;34m\u001b[0m\u001b[0m\n\u001b[0m\u001b[1;32m     11\u001b[0m \u001b[0;34m\u001b[0m\u001b[0m\n\u001b[1;32m     12\u001b[0m     \u001b[0;31m# Leer salida de STDERR con los tiempos de ejecucion de cada metodo.\u001b[0m\u001b[0;34m\u001b[0m\u001b[0;34m\u001b[0m\u001b[0;34m\u001b[0m\u001b[0m\n",
      "\u001b[0;31mValueError\u001b[0m: Hubo un error en la experimentacion para el algoritmo: true con la instancia ../scripts/instancias/random/random-0.txt ../scripts/instancias/random/random-1.txt ../scripts/instancias/random/random-2.txt ../scripts/instancias/random/random-3.txt ../scripts/instancias/random/random-4.txt ../scripts/instancias/random/random-5.txt ../scripts/instancias/random/random-6.txt ../scripts/instancias/random/random-7.txt ../scripts/instancias/random/random-8.txt ../scripts/instancias/random/random-9.txt ../scripts/instancias/random/random-10.txt ../scripts/instancias/random/random-11.txt ../scripts/instancias/random/random-12.txt ../scripts/instancias/random/random-13.txt ../scripts/instancias/random/random-14.txt ../scripts/instancias/random/random-15.txt ../scripts/instancias/random/random-16.txt ../scripts/instancias/random/random-17.txt ../scripts/instancias/random/random-18.txt ../scripts/instancias/random/random-19.txt ../scripts/instancias/random/random-20.txt ../scripts/instancias/random/random-21.txt ../scripts/instancias/random/random-22.txt ../scripts/instancias/random/random-23.txt ../scripts/instancias/random/random-24.txt ../scripts/instancias/random/random-25.txt ../scripts/instancias/random/random-26.txt ../scripts/instancias/random/random-27.txt ../scripts/instancias/random/random-28.txt ../scripts/instancias/random/random-29.txt ../scripts/instancias/random/random-30.txt ../scripts/instancias/random/random-31.txt ../scripts/instancias/random/random-32.txt ../scripts/instancias/random/random-33.txt ../scripts/instancias/random/random-34.txt ../scripts/instancias/random/random-35.txt ../scripts/instancias/random/random-36.txt ../scripts/instancias/random/random-37.txt ../scripts/instancias/random/random-38.txt ../scripts/instancias/random/random-39.txt ../scripts/instancias/random/random-40.txt ../scripts/instancias/random/random-41.txt ../scripts/instancias/random/random-42.txt ../scripts/instancias/random/random-43.txt ../scripts/instancias/random/random-44.txt ../scripts/instancias/random/random-45.txt ../scripts/instancias/random/random-46.txt ../scripts/instancias/random/random-47.txt ../scripts/instancias/random/random-48.txt ../scripts/instancias/random/random-49.txt ../scripts/instancias/random/random-50.txt ../scripts/instancias/random/random-51.txt ../scripts/instancias/random/random-52.txt ../scripts/instancias/random/random-53.txt ../scripts/instancias/random/random-54.txt ../scripts/instancias/random/random-55.txt ../scripts/instancias/random/random-56.txt ../scripts/instancias/random/random-57.txt ../scripts/instancias/random/random-58.txt ../scripts/instancias/random/random-59.txt ../scripts/instancias/random/random-60.txt ../scripts/instancias/random/random-61.txt ../scripts/instancias/random/random-62.txt ../scripts/instancias/random/random-63.txt ../scripts/instancias/random/random-64.txt ../scripts/instancias/random/random-65.txt ../scripts/instancias/random/random-66.txt ../scripts/instancias/random/random-67.txt ../scripts/instancias/random/random-68.txt ../scripts/instancias/random/random-69.txt ../scripts/instancias/random/random-70.txt ../scripts/instancias/random/random-71.txt ../scripts/instancias/random/random-72.txt ../scripts/instancias/random/random-73.txt ../scripts/instancias/random/random-74.txt ../scripts/instancias/random/random-75.txt ../scripts/instancias/random/random-76.txt ../scripts/instancias/random/random-77.txt ../scripts/instancias/random/random-78.txt ../scripts/instancias/random/random-79.txt ../scripts/instancias/random/random-80.txt ../scripts/instancias/random/random-81.txt ../scripts/instancias/random/random-82.txt ../scripts/instancias/random/random-83.txt ../scripts/instancias/random/random-84.txt ../scripts/instancias/random/random-85.txt ../scripts/instancias/random/random-86.txt ../scripts/instancias/random/random-87.txt ../scripts/instancias/random/random-88.txt ../scripts/instancias/random/random-89.txt ../scripts/instancias/random/random-90.txt ../scripts/instancias/random/random-91.txt ../scripts/instancias/random/random-92.txt ../scripts/instancias/random/random-93.txt ../scripts/instancias/random/random-94.txt ../scripts/instancias/random/random-95.txt ../scripts/instancias/random/random-96.txt ../scripts/instancias/random/random-97.txt ../scripts/instancias/random/random-98.txt ../scripts/instancias/random/random-99.txt ."
     ]
    }
   ],
   "source": [
    "columnas = [\"dataset\", \"cant_threads\", \"metodo\", \"tiempo_carga\", \"tiempo_max\"];\n",
    "filas = [];\n",
    "numero = 1\n",
    "T = 5 # Numero de veces que se ejecuta cada experimento (para mayor fidelidad del tiempo).\n",
    "for experimento in experimentos:\n",
    "    # Voy mostrando que experimento se está ejecutando.\n",
    "    clear_output(wait=True)\n",
    "    display('Experimento: ' + str(numero) + \"/\" + str(len(experimentos)))\n",
    "    numero += 1\n",
    "    \n",
    "    # Ejecutamos el experimento T veces y obtenemos la mediana.\n",
    "    tiempos_carga = []\n",
    "    tiempos_max = []\n",
    "    \n",
    "    for i in range(0, T):\n",
    "        tiempos = correr_experimento(experimento[1], experimento[2], experimento[3])\n",
    "        tiempos_carga.append(tiempos[0]);\n",
    "        tiempos_max.append(tiempos[1]);\n",
    "    tiempo_carga = np.median(tiempos_carga);\n",
    "    tiempo_max = np.median(tiempos_max);\n",
    "    filas.append([experimento[0], experimento[1], experimento[2], experimento[3], tiempo_carga, tiempo_max]);\n",
    "df_resultado = pd.DataFrame(filas, columns=columnas);\n",
    "df_resultado.to_csv(\"resultados/exp1.csv\", index=False, header=True);"
   ]
  },
  {
   "cell_type": "code",
   "execution_count": null,
   "id": "d012b7cc-153c-4b01-a827-0cace7f26453",
   "metadata": {},
   "outputs": [],
   "source": []
  }
 ],
 "metadata": {
  "kernelspec": {
   "display_name": "Python 3",
   "language": "python",
   "name": "python3"
  },
  "language_info": {
   "codemirror_mode": {
    "name": "ipython",
    "version": 3
   },
   "file_extension": ".py",
   "mimetype": "text/x-python",
   "name": "python",
   "nbconvert_exporter": "python",
   "pygments_lexer": "ipython3",
   "version": "3.6.9"
  }
 },
 "nbformat": 4,
 "nbformat_minor": 5
}
