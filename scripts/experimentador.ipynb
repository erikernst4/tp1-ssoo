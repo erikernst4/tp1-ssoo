{
 "cells": [
  {
   "cell_type": "code",
   "execution_count": 13,
   "id": "544df48e",
   "metadata": {},
   "outputs": [],
   "source": [
    "import math, subprocess\n",
    "import pandas as pd\n",
    "import numpy as np\n",
    "from IPython.display import display, clear_output"
   ]
  },
  {
   "cell_type": "code",
   "execution_count": 17,
   "id": "0930296e",
   "metadata": {},
   "outputs": [],
   "source": [
    "def correr_experimento(cant_threads, maximo, lista_archivos):\n",
    "    # Crear proceso para ejecutar el codigo.\n",
    "    process = subprocess.Popen([\"../build/ContarPalabras\", cant_threads, maximo] + lista_archivos, stderr=subprocess.PIPE, stdout=subprocess.PIPE, stdin=subprocess.PIPE, universal_newlines = True)\n",
    "\n",
    "    # Correr experimento.\n",
    "    exit_code = process.wait()\n",
    "\n",
    "    # Verificar que el proceso no fallo.\n",
    "    if exit_code != 0: raise ValueError(F\"Hubo un error en la experimentacion para la cantidad de threads: {cant_threads} con la instancia {lista_archivos}.\")\n",
    "    \n",
    "    # Leer salida de STDERR con los tiempos de ejecucion de cada metodo.\n",
    "    tiempo_de_ejecucion = float(process.stderr.read());\n",
    "\n",
    "    # Leo de STDOUT el tiempo del maximo paralelo si hay\n",
    "    tiempo_max_paralelo = 0.0\n",
    "    if (maximo == \"true\"):\n",
    "        tiempo_max_paralelo = float(process.stdout.read());\n",
    "    \n",
    "    process.stdin.close();\n",
    "    process.stdout.close();\n",
    "    process.stderr.close();\n",
    "    \n",
    "    return tiempo_de_ejecucion, tiempo_max_paralelo\n"
   ]
  },
  {
   "cell_type": "markdown",
   "id": "2a460104",
   "metadata": {},
   "source": [
    "### Experimento 1\n"
   ]
  },
  {
   "cell_type": "code",
   "execution_count": 54,
   "id": "33d442af",
   "metadata": {},
   "outputs": [],
   "source": [
    "experimentos = [];\n",
    "df_caso_random = pd.read_csv(\"instancias/random/indice.txt\");\n",
    "cantThreads = 10\n",
    "#lista_archivos_string = \"\"\n",
    "#with open(F\"instancias/random/indice.txt\", 'r') as f:\n",
    "#    lista_archivos_string = f.read();\n",
    "lista_archivos = df_caso_random.stack().tolist()\n",
    "for threads in range(1, cantThreads):\n",
    "    experimentos.append([\"big_random\", str(threads), \"true\", lista_archivos])"
   ]
  },
  {
   "cell_type": "code",
   "execution_count": 56,
   "id": "103298af",
   "metadata": {},
   "outputs": [
    {
     "data": {
      "text/plain": [
       "'Experimento: 9/9'"
      ]
     },
     "metadata": {},
     "output_type": "display_data"
    },
    {
     "name": "stdout",
     "output_type": "stream",
     "text": [
      "tiempo carga: 27582.8\n",
      "tiempo carga: 27093.8\n",
      "tiempo carga: 35643.9\n"
     ]
    }
   ],
   "source": [
    "columnas = [\"dataset\", \"cant_threads\", \"metodo\", \"tiempo_carga\", \"tiempo_max\"];\n",
    "filas = [];\n",
    "numero = 1\n",
    "T = 4 # Numero de veces que se ejecuta cada experimento (para mayor fidelidad del tiempo).\n",
    "for experimento in experimentos:\n",
    "    # Voy mostrando que experimento se está ejecutando.\n",
    "    clear_output(wait=True)\n",
    "    display('Experimento: ' + str(numero) + \"/\" + str(len(experimentos)))\n",
    "    numero += 1\n",
    "    \n",
    "    # Ejecutamos el experimento T veces y obtenemos la mediana.\n",
    "    tiempos_carga = []\n",
    "    tiempos_max = []\n",
    "    \n",
    "    for _ in range(0, T):\n",
    "        tiempo_carga, tiempo_max = correr_experimento(experimento[1], experimento[2], experimento[3])\n",
    "        tiempos_carga.append(tiempo_carga);\n",
    "        tiempos_max.append(tiempo_max);\n",
    "    tiempo_carga = np.median(tiempos_carga);\n",
    "    tiempo_max = np.median(tiempos_max);\n",
    "    filas.append([experimento[0], experimento[1], experimento[2], tiempo_carga, tiempo_max]);\n",
    "df_resultado = pd.DataFrame(filas, columns=columnas);\n",
    "df_resultado.to_csv(\"resultados/exp1.csv\", index=False, header=True);"
   ]
  },
  {
   "cell_type": "markdown",
   "id": "735a7bc9",
   "metadata": {},
   "source": [
    "## Experimento 2"
   ]
  },
  {
   "cell_type": "code",
   "execution_count": 18,
   "id": "e44bfc98",
   "metadata": {},
   "outputs": [],
   "source": [
    "cantThreads = 20\n",
    "experimentos = []\n",
    "df_indice_directorios = pd.read_csv(\"instancias/separados/indice_directorios.txt\")\n",
    "\n",
    "for directorio in df_indice_directorios.stack().to_list():\n",
    "    lista_archivos = pd.read_csv(directorio+\"/indice.txt\").stack().tolist()\n",
    "    \n",
    "    for threads in range(1, cantThreads):\n",
    "        experimentos.append([directorio, str(threads), lista_archivos])"
   ]
  },
  {
   "cell_type": "code",
   "execution_count": 19,
   "id": "d52da8f3",
   "metadata": {},
   "outputs": [
    {
     "data": {
      "text/plain": [
       "'Experimento: 190/190'"
      ]
     },
     "metadata": {},
     "output_type": "display_data"
    }
   ],
   "source": [
    "columnas = [\"dataset\", \"cant_threads\", \"tiempo_carga\"];\n",
    "filas = [];\n",
    "numero = 1\n",
    "T = 4 # Numero de veces que se ejecuta cada experimento (para mayor fidelidad del tiempo).\n",
    "for experimento in experimentos:\n",
    "    # Voy mostrando que experimento se está ejecutando.\n",
    "    clear_output(wait=True)\n",
    "    display('Experimento: ' + str(numero) + \"/\" + str(len(experimentos)))\n",
    "    numero += 1\n",
    "    \n",
    "    # Ejecutamos el experimento T veces y obtenemos la mediana.\n",
    "    tiempos_carga = []\n",
    "    for _ in range(0, T):\n",
    "        tiempo_carga, _ = correr_experimento(cant_threads=experimento[1],maximo=\"False\",lista_archivos=experimento[2])\n",
    "        tiempos_carga.append(tiempo_carga);\n",
    "    tiempo_carga = np.median(tiempos_carga);\n",
    "    filas.append([experimento[0], experimento[1], tiempo_carga]);\n",
    "df_resultado = pd.DataFrame(filas, columns=columnas);\n",
    "df_resultado.to_csv(\"resultados/experimento_separados.csv\", index=False, header=True);"
   ]
  }
 ],
 "metadata": {
  "kernelspec": {
   "display_name": "Python 3",
   "language": "python",
   "name": "python3"
  },
  "language_info": {
   "codemirror_mode": {
    "name": "ipython",
    "version": 3
   },
   "file_extension": ".py",
   "mimetype": "text/x-python",
   "name": "python",
   "nbconvert_exporter": "python",
   "pygments_lexer": "ipython3",
   "version": "3.6.9"
  }
 },
 "nbformat": 4,
 "nbformat_minor": 5
}
